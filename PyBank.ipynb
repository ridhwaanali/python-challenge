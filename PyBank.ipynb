{
 "cells": [
  {
   "cell_type": "code",
   "execution_count": 26,
   "id": "e6d4e722",
   "metadata": {},
   "outputs": [
    {
     "name": "stdout",
     "output_type": "stream",
     "text": [
      "      Date  Profit/Losses\n",
      "0   Jan-10        1088983\n",
      "1   Feb-10        -354534\n",
      "2   Mar-10         276622\n",
      "3   Apr-10        -728133\n",
      "4   May-10         852993\n",
      "..     ...            ...\n",
      "81  Oct-16        -729004\n",
      "82  Nov-16        -112209\n",
      "83  Dec-16         516313\n",
      "84  Jan-17         607208\n",
      "85  Feb-17         382539\n",
      "\n",
      "[86 rows x 2 columns]\n"
     ]
    }
   ],
   "source": [
    "#Ridhwaan Ali\n",
    "#Read csv\n",
    "import pandas as pd\n",
    "df= pd.read_csv(\"budget_data.csv\")\n",
    "print (df)"
   ]
  },
  {
   "cell_type": "code",
   "execution_count": 27,
   "id": "a536759e",
   "metadata": {},
   "outputs": [
    {
     "name": "stdout",
     "output_type": "stream",
     "text": [
      "Total Months: 86\n"
     ]
    }
   ],
   "source": [
    "#Total Months\n",
    "totalmonths= len(df)\n",
    "print (\"Total Months:\", totalmonths) "
   ]
  },
  {
   "cell_type": "code",
   "execution_count": 44,
   "id": "0887d9be",
   "metadata": {},
   "outputs": [
    {
     "name": "stdout",
     "output_type": "stream",
     "text": [
      "Total Profit/Losses:$ 22564198\n"
     ]
    }
   ],
   "source": [
    "#Net total of P/L\n",
    "net= df['Profit/Losses'].sum()\n",
    "print (\"Total Profit/Losses:$\", net)"
   ]
  },
  {
   "cell_type": "code",
   "execution_count": 46,
   "id": "47e2baf0",
   "metadata": {},
   "outputs": [
    {
     "name": "stdout",
     "output_type": "stream",
     "text": [
      "Average: $ 262374.3953488372\n"
     ]
    }
   ],
   "source": [
    "#Average Change\n",
    "change= df['Profit/Losses'].mean()\n",
    "print (\"Average: $\", change)"
   ]
  },
  {
   "cell_type": "code",
   "execution_count": 56,
   "id": "827ac812",
   "metadata": {},
   "outputs": [
    {
     "name": "stdout",
     "output_type": "stream",
     "text": [
      "The Greatest increase: $ 1141840\n"
     ]
    }
   ],
   "source": [
    "#Greatest Increase\n",
    "inc= df['Profit/Losses'].max()\n",
    "print (\"The Greatest increase: $\", inc)"
   ]
  },
  {
   "cell_type": "code",
   "execution_count": 57,
   "id": "f696eb9f",
   "metadata": {},
   "outputs": [
    {
     "name": "stdout",
     "output_type": "stream",
     "text": [
      "The Greatest Decrease: $ -1194133\n"
     ]
    }
   ],
   "source": [
    "#Greatest Decrease\n",
    "dec= df['Profit/Losses'].min()\n",
    "print(\"The Greatest Decrease: $\", dec)"
   ]
  },
  {
   "cell_type": "code",
   "execution_count": null,
   "id": "01b37d74",
   "metadata": {},
   "outputs": [],
   "source": []
  }
 ],
 "metadata": {
  "kernelspec": {
   "display_name": "Python 3 (ipykernel)",
   "language": "python",
   "name": "python3"
  },
  "language_info": {
   "codemirror_mode": {
    "name": "ipython",
    "version": 3
   },
   "file_extension": ".py",
   "mimetype": "text/x-python",
   "name": "python",
   "nbconvert_exporter": "python",
   "pygments_lexer": "ipython3",
   "version": "3.10.9"
  }
 },
 "nbformat": 4,
 "nbformat_minor": 5
}
